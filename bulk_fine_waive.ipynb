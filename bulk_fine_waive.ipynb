{
 "cells": [
  {
   "cell_type": "code",
   "execution_count": 1,
   "id": "9ac8679e",
   "metadata": {},
   "outputs": [
    {
     "name": "stdout",
     "output_type": "stream",
     "text": [
      "596 records processed, please wait for responses to be saved to csv...\n",
      "File saved, please check responses.csv for error messages.\n",
      "Time taken: 0:11:36.054823\n"
     ]
    }
   ],
   "source": [
    "#Author Rachel Merrick.\n",
    "#This script was created for the purpose of waiving fines in bulk with more control than provided by the bulk fine waiving\n",
    "#option in Alma. The list of fines are created using Alma analytics and filtered by date and amount there.\n",
    "#The report will then be exported as a csv which will be read by the script as a dataframe.\n",
    "#The columns of the dataframe are then added to arrays/lists. Each list/array is iterated over by a loop to create the link\n",
    "#to post to the Alma API. The response from the APIs are then saved into a text file in XML.\n",
    "#Error messages are added to the dataframe as a new column called 'Notes'. The updated dataframe is than saved as a new csv.\n",
    "#Originally written and executed with Anaconda/Jupyter:\n",
    "#Some libraries may need to be installed before running the script in other environments.\n",
    "\n",
    "#Import datetime module.\n",
    "from datetime import datetime\n",
    "#Assign variable for start time, used to time how long script takes.\n",
    "start_time = datetime.now()\n",
    "\n",
    "#Import required libraries/modules.\n",
    "import requests as req #Used to to access Alma API.\n",
    "import pandas as pd #Used to import csv as dataframe. May need to be installed if used oustide of Anaconda/Jupyter\n",
    "import re #Allows use of regular expresions which have been used to extract error messages.\n",
    "\n",
    "#Set variables.\n",
    "key = '' #Alma production API key- enter your key between ''\n",
    "error = '<errorsExist>true</errorsExist>' #Test to indicate when an error is pressent.\n",
    "error_message = '<errorMessage>(.+)</errorMessage>' #Extracting the error message from API response.\n",
    "\n",
    "#Import csv file. Can also use pd.read_excel to use .xlsx files.\n",
    "df = pd.read_csv('fines.csv')\n",
    "\n",
    "#Extracting reuired columns (Columns which contain variable operators in the API link) from the dataset.\n",
    "#Placing the contents into arrays/lists which are defined as variables.\n",
    "#UserId, Fine ID and amount  are variables in this script. Operation (waive), Reason (other) \n",
    "#and comment (RM_testing_bulk_waive_API) are static and have been defined in the url for all fines waived by this script.\n",
    "users_list = df.iloc[:,0].values\n",
    "fineID_list = df.iloc[:,1].values\n",
    "amount_list = df.iloc[:,2].values\n",
    "\n",
    "#Loop iterating over the number of rows in the User ID column. all columns should have the same number of rows.\n",
    "for i in range(len(users_list)):\n",
    "    #Setting the variable for the usersID, FineID and amount to be used in buidling the url.\n",
    "    #All variables are converted to string so that the URL can be concatenated.\n",
    "    user = str(users_list[i])\n",
    "    fineID = str(fineID_list[i])\n",
    "    amount = str(amount_list[i])\n",
    "    #Building URL with variables above and API key.\n",
    "    url = 'https://api-ap.hosted.exlibrisgroup.com/almaws/v1/users/' + user  + '/fees/' + fineID +'?user_id_type=all_unique&op=waive&amount=' +amount+ '&reason=OTHER&comment=API_bulk_waive&apikey=' +key\n",
    "    #Post URL to Alma. reponse will be contained in the variable.\n",
    "    response = req.post(url)\n",
    "    \n",
    "    \n",
    "    #Selection statement if there is an error add error message to notes column of data frame, else No errors detected.\n",
    "    if error in response.text:\n",
    "        note = re.search(error_message, response.text)\n",
    "        df.at[i, 'Notes'] = note.group(1)\n",
    "        \n",
    "    else:\n",
    "        note = 'No errors detected'\n",
    "        df.at[i, 'Notes'] = note\n",
    "        \n",
    "#Print message of how many records were processed and to wait for csv to be written to.\n",
    "print(str(i + 1) + \" records processed, please wait for responses to be saved to csv...\")\n",
    "\n",
    "#Write file to csv\n",
    "df.to_csv('responses.csv')\n",
    "\n",
    "#print file save completeion messages.\n",
    "print(\"File saved, please check responses.csv for error messages.\")\n",
    "#set variable for end time\n",
    "end_time = datetime.now()\n",
    "#Display time taken (end time - star time)\n",
    "print('Time taken: {}'.format(end_time - start_time))"
   ]
  },
  {
   "cell_type": "code",
   "execution_count": 3,
   "id": "24fbbd26",
   "metadata": {},
   "outputs": [],
   "source": [
    "#add if falls down\n",
    "#df.to_csv('responses.csv')"
   ]
  },
  {
   "cell_type": "code",
   "execution_count": null,
   "id": "8eeae55e",
   "metadata": {},
   "outputs": [],
   "source": []
  }
 ],
 "metadata": {
  "kernelspec": {
   "display_name": "Python 3 (ipykernel)",
   "language": "python",
   "name": "python3"
  },
  "language_info": {
   "codemirror_mode": {
    "name": "ipython",
    "version": 3
   },
   "file_extension": ".py",
   "mimetype": "text/x-python",
   "name": "python",
   "nbconvert_exporter": "python",
   "pygments_lexer": "ipython3",
   "version": "3.9.7"
  }
 },
 "nbformat": 4,
 "nbformat_minor": 5
}
